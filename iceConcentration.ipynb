{
 "cells": [
  {
   "cell_type": "code",
   "execution_count": 1,
   "id": "26629927",
   "metadata": {},
   "outputs": [],
   "source": [
    "import numpy as np\n",
    "import pandas as pd\n",
    "from PyQt5.QtWidgets import QMainWindow, QFormLayout,\\\n",
    "    QApplication, QLineEdit, QLabel, QWidget, QPushButton, QComboBox,\\\n",
    "    QRadioButton\n",
    "import sys"
   ]
  },
  {
   "cell_type": "code",
   "execution_count": 2,
   "id": "ea1aa38b",
   "metadata": {},
   "outputs": [],
   "source": [
    "class inputScreen(QMainWindow):\n",
    "    \"\"\"\n",
    "    Take input from user to define analysis.\n",
    "    \"\"\"\n",
    "    def __init__(self, parent=None):\n",
    "        super(inputScreen, self).__init__(parent)\n",
    "        self.layout = QFormLayout()  # set layout as form\n",
    "        self.screen = QWidget()  # initialize widget\n",
    "        \n",
    "        # create list of possible latitude and longitude values to populate\n",
    "        # QComboBox\n",
    "        # using QComboBox to avoid user entry errors\n",
    "        lons = list(np.arange(0.5, 360, 0.5))\n",
    "        lons = [str(i) for i in lons]\n",
    "        lats = list(np.arange(65.5, 90, 0.5))\n",
    "        lats = [str(i) for i in lats]\n",
    "        years = list(np.arange(1950, 2022, 1))\n",
    "        years = [str(i) for i in years]\n",
    "        months = list(np.arange(1, 13, 1))\n",
    "        months = [str(i) for i in months]\n",
    "        years_fut = list(np.arange(2023, 2035, 1))\n",
    "        years_fut = [str(i) for i in years_fut]\n",
    "        \n",
    "        #  create labels to assign to input fields\n",
    "        lat_label_start = QLabel(\"Latitude: \")\n",
    "        lon_label_start = QLabel(\"Longitude: \")\n",
    "        \n",
    "        # create submit button\n",
    "        submit_inputs = QPushButton(\"Run analysis...\")\n",
    "\n",
    "        # populate QComboBox\n",
    "        self.lat_input_start = QComboBox()\n",
    "        self.lon_input_start = QComboBox()\n",
    "        self.lat_input_start.addItems(lats)\n",
    "        self.lon_input_start.addItems(lons)\n",
    "        \n",
    "        # options for seeing ice concentration or predicting\n",
    "        self.prev_conc = QRadioButton(\"See ice concentration for...\")\n",
    "        yearlbl1 = QLabel(\"year: \")\n",
    "        monthlbl1 = QLabel(\"month: \")\n",
    "        self.yearinput1 = QComboBox()\n",
    "        self.monthinput1 = QComboBox()\n",
    "        self.yearinput1.addItems(years)\n",
    "        self.monthinput1.addItems(months)\n",
    "        self.predict_conc = QRadioButton(\"Predict concentration for...\")\n",
    "        yearlbl2 = QLabel(\"year: \")\n",
    "        monthlbl2 = QLabel(\"month: \")\n",
    "        self.yearinput2 = QComboBox()\n",
    "        self.monthinput2 = QComboBox()\n",
    "        self.yearinput2.addItems(years_fut)\n",
    "        self.monthinput2.addItems(months)\n",
    "\n",
    "        # add dropdown boxes to form\n",
    "        self.layout.addRow(lat_label_start, self.lat_input_start)\n",
    "        self.layout.addRow(lon_label_start, self.lon_input_start)\n",
    "        self.layout.addRow(self.prev_conc)\n",
    "        self.layout.addRow(yearlbl1, self.yearinput1)\n",
    "        self.layout.addRow(monthlbl1, self.monthinput1)\n",
    "        self.layout.addRow(self.predict_conc)\n",
    "        self.layout.addRow(yearlbl2, self.yearinput2)\n",
    "        self.layout.addRow(monthlbl2, self.monthinput2)\n",
    "        \n",
    "        # add buttom to form\n",
    "        self.layout.addRow(submit_inputs)\n",
    "\n",
    "        # set the layout to the screen and set screen as central widget\n",
    "        self.screen.setLayout(self.layout)\n",
    "        self.setCentralWidget(self.screen)\n",
    "\n",
    "        # when button pressed, call manage_inputs to check and make next calls\n",
    "        submit_inputs.pressed.connect(self.manage_inputs)\n",
    "\n",
    "    def manage_inputs(self):\n",
    "        \"\"\"\n",
    "        check and handle inputs\n",
    "        \"\"\"\n",
    "        #  convert to float values\n",
    "        start_lat = float(self.lat_input_start.currentText())\n",
    "        start_lon = float(self.lon_input_start.currentText())\n",
    "        \n",
    "        if self.prev_conc.isChecked():\n",
    "            month = float(self.monthinput1.currentText())\n",
    "            year = float(self.yearinput1.currentText())\n",
    "            analysis = 1  # label which analysis to run\n",
    "        elif self.predict_conc.isChecked():\n",
    "            month = float(self.monthinput2.currentText())\n",
    "            year = float(self.yearinput2.currentText())\n",
    "            analysis = 2\n",
    "\n",
    "        path = grabData(start_lat, start_lon, month, year, analysis)"
   ]
  },
  {
   "cell_type": "code",
   "execution_count": 3,
   "id": "0587e070",
   "metadata": {},
   "outputs": [
    {
     "ename": "SystemExit",
     "evalue": "0",
     "output_type": "error",
     "traceback": [
      "An exception has occurred, use %tb to see the full traceback.\n",
      "\u001b[1;31mSystemExit\u001b[0m\u001b[1;31m:\u001b[0m 0\n"
     ]
    },
    {
     "name": "stderr",
     "output_type": "stream",
     "text": [
      "C:\\Users\\Caitlin\\anaconda3\\lib\\site-packages\\IPython\\core\\interactiveshell.py:3377: UserWarning: To exit: use 'exit', 'quit', or Ctrl-D.\n",
      "  warn(\"To exit: use 'exit', 'quit', or Ctrl-D.\", stacklevel=1)\n"
     ]
    }
   ],
   "source": [
    "def main():\n",
    "    app = QApplication(sys.argv)\n",
    "    win = inputScreen()\n",
    "    win.show()\n",
    "    sys.exit(app.exec_())\n",
    "\n",
    "\n",
    "if __name__ == '__main__':\n",
    "    main()"
   ]
  },
  {
   "cell_type": "code",
   "execution_count": null,
   "id": "50238cb8",
   "metadata": {},
   "outputs": [],
   "source": []
  }
 ],
 "metadata": {
  "kernelspec": {
   "display_name": "Python 3 (ipykernel)",
   "language": "python",
   "name": "python3"
  },
  "language_info": {
   "codemirror_mode": {
    "name": "ipython",
    "version": 3
   },
   "file_extension": ".py",
   "mimetype": "text/x-python",
   "name": "python",
   "nbconvert_exporter": "python",
   "pygments_lexer": "ipython3",
   "version": "3.9.12"
  }
 },
 "nbformat": 4,
 "nbformat_minor": 5
}
